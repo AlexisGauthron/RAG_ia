{
 "cells": [
  {
   "cell_type": "markdown",
   "id": "9b476eb3",
   "metadata": {},
   "source": [
    "# Projet RAG (Retrivial Augmented Génération)\n",
    "\n",
    "\n",
    "#### Consigne \n",
    "\n",
    "Mini RAG : concevez un petit chatbot basé sur un modèle RAG. Vous utiliserez un jeu de documents simple, mono-source (PDF, site web, wiki personnel...) pour construire un pipeline minimal (embedding + vector search + modèle). Le but est d’afficher une réponse en langage naturel à une question posée. Vous pouvez utiliser LangChain ou tout autre outil équivalent.\n"
   ]
  }
 ],
 "metadata": {
  "language_info": {
   "name": "python"
  }
 },
 "nbformat": 4,
 "nbformat_minor": 5
}
