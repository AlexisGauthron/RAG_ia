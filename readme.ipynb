{
 "cells": [
  {
   "cell_type": "markdown",
   "id": "9b476eb3",
   "metadata": {},
   "source": [
    "# Projet RAG (Retrivial Augmented Génération)\n",
    "\n",
    "\n",
    "#### Consigne \n",
    "\n",
    "Mini RAG : concevez un petit chatbot basé sur un modèle RAG. Vous utiliserez un jeu de documents simple, mono-source (PDF, site web, wiki personnel...) pour construire un pipeline minimal (embedding + vector search + modèle). Le but est d’afficher une réponse en langage naturel à une question posée. Vous pouvez utiliser LangChain ou tout autre outil équivalent.\n",
    "\n",
    "\n",
    "### J'utilise comme environnement virtuel *Poetry*\n",
    "\n",
    "#### 1 / Téléchargé *poetry*\n",
    "\n",
    "```bash\n",
    "    pip install poetry\n",
    "```\n",
    "\n",
    "#### 2 / Installer les dépendances via *poetry*\n",
    "\n",
    "```bash\n",
    "    poetry install\n",
    "```\n",
    "\n",
    "\n",
    "<br><br>\n",
    "\n",
    "\n",
    "### Utilisation Streamlit pour l'interface \n",
    "\n",
    "```bash\n",
    "    streamlit run src/app.py\n",
    "```\n",
    "\n",
    "<br><br>\n",
    "\n",
    "## Organisation Fonction \n",
    "\n",
    "#### ```embedding.py``` \n",
    "\n",
    "- load_text_file : load les datas présentes dans le dossier data\n",
    "\n",
    "- chunk_text : Séparer en chunks les textes extrait et les regroupes dans un tableau\n",
    "\n",
    "- class VectorIndex : "
   ]
  }
 ],
 "metadata": {
  "language_info": {
   "name": "python"
  }
 },
 "nbformat": 4,
 "nbformat_minor": 5
}
